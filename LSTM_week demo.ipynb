{
 "cells": [
  {
   "cell_type": "code",
   "execution_count": 1,
   "metadata": {},
   "outputs": [],
   "source": [
    "import pandas as pd\n",
    "from torchsummary import summary\n",
    "import torch\n",
    "import torch.nn as nn\n",
    "import torch.nn.parallel\n",
    "import torch.backends.cudnn as cudnn\n",
    "import torch.optim as optim\n",
    "import torch.nn.functional as F\n",
    "from torch.utils.data import TensorDataset\n",
    "from torch.utils.data import DataLoader\n",
    "import numpy as np\n",
    "import itertools\n",
    "import os, sys, datetime"
   ]
  },
  {
   "cell_type": "code",
   "execution_count": 2,
   "metadata": {},
   "outputs": [],
   "source": [
    "# 讀取來源檔案 遮蔽時會讀取以儲存npy檔案\n",
    "new_data=False\n",
    "filter_ths = 100\n",
    "if new_data==True:\n",
    "    raw_data = pd.read_csv('./4602_SARS-CoV-2_pima_0708.csv')\n",
    "else:\n",
    "    # npy path\n",
    "    train_npy = [f'./dataset2/numpy_train_test_split_added time/X_train_{filter_ths}up_weeks.npy', f'./dataset2/numpy_train_test_split_added time/y_train_{filter_ths}up_weeks.npy']\n",
    "    test_npy = [f'./dataset2/numpy_train_test_split_added time/X_test_{filter_ths}up_weeks.npy', f'./dataset2/numpy_train_test_split_added time/y_test_{filter_ths}up_weeks.npy']\n"
   ]
  },
  {
   "cell_type": "code",
   "execution_count": 3,
   "metadata": {},
   "outputs": [
    {
     "name": "stdout",
     "output_type": "stream",
     "text": [
      "(1696, 56575) (1696,) (566, 56575) (566,)\n",
      "(1696, 56575) (1696,) (566, 56575) (566,)\n",
      "train class 7 test class 7\n"
     ]
    }
   ],
   "source": [
    "class data_loader:\n",
    "    def __init__(self, x_train, y_train, x_test, y_test):\n",
    "\n",
    "        self.x_train = np.array(x_train)\n",
    "        self.x_test = np.array(x_test)\n",
    "        self.y_train = np.array(y_train)\n",
    "        self.y_test = np.array(y_test)\n",
    "        print(self.x_train.shape, self.y_train.shape, self.x_test.shape, self.y_test.shape)\n",
    "\n",
    "    def get_index(self, data_list, GT_list, b):\n",
    "        labels = []\n",
    "        datas =[]\n",
    "        for patch, i in enumerate(GT_list):\n",
    "            for index, label in enumerate(b):\n",
    "                if i==label:\n",
    "                    labels.append(index)\n",
    "                    datas.append(data_list[patch])\n",
    "        return datas, labels\n",
    "\n",
    "    def npy_loading(self):\n",
    "        # train processing\n",
    "        b1, _, _, w1= np.unique(self.y_train,return_counts=True,return_index=True,return_inverse=True)\n",
    "        # test(valid) processing\n",
    "        b2, _, _, w2= np.unique(self.y_test,return_counts=True,return_index=True,return_inverse=True)\n",
    "        X_train, Y_train = self.get_index(self.x_train, self.y_train, b2)\n",
    "        X_test, Y_test = self.get_index(self.x_test, self.y_test, b2)\n",
    "\n",
    "        return np.array(X_train), np.array(Y_train), np.array(X_test), np.array(Y_test), b2\n",
    "\n",
    "batch_size = 32\n",
    "# dataset npy loading\n",
    "loader = data_loader(np.load(train_npy[0], allow_pickle=True), np.load(train_npy[1], allow_pickle=True), \n",
    "                    np.load(test_npy[0], allow_pickle=True), np.load(test_npy[1], allow_pickle=True))\n",
    "\n",
    "X_train, y_train,X_test, y_test, test_class = loader.npy_loading()\n",
    "print(X_train.shape, y_train.shape, X_test.shape, y_test.shape)\n",
    "\n",
    "class_n = len(test_class)\n",
    "print('train class', max(y_train)+1, 'test class', max(y_test)+1)\n",
    "\n",
    "\n",
    "# pytorch data zip processing\n",
    "train_zip = TensorDataset(torch.tensor(X_train), torch.tensor(y_train)) #zip X, y\n",
    "test_zip = TensorDataset(torch.tensor(X_test), torch.tensor(y_test)) #zip X, y\n",
    "train_loader = DataLoader(dataset=train_zip, batch_size=batch_size, shuffle=True)\n",
    "valid_loader = DataLoader(dataset=test_zip, batch_size=batch_size, shuffle=False)"
   ]
  },
  {
   "cell_type": "code",
   "execution_count": 4,
   "metadata": {},
   "outputs": [],
   "source": [
    "Input_Size = X_train.shape[1]\n",
    "class RNN(nn.Module):\n",
    "    def __init__(self, class_n):\n",
    "        super(RNN, self).__init__()\n",
    "\n",
    "        self.rnn = nn.LSTM(\n",
    "            input_size=Input_Size,\n",
    "            hidden_size=128,\n",
    "            num_layers=1,\n",
    "            batch_first=True,\n",
    "        )\n",
    "\n",
    "        self.out = nn.Linear(128, class_n)\n",
    "    def forward(self, x):\n",
    "        r_out, (h_c, h_h) = self.rnn(x, None)\n",
    "        out = self.out(r_out[:, -1, :])\n",
    "        return out\n",
    "    \n",
    "    def initialize_weights(self):\n",
    "        for m in self.modules():\n",
    "            if isinstance(m, nn.Linear):\n",
    "                torch.nn.init.normal_(m.weight.data, 0, 0.01)\n",
    "                # m.weight.data.normal_(0,0.01)\n",
    "                m.bias.data.zero_()"
   ]
  },
  {
   "cell_type": "code",
   "execution_count": 5,
   "metadata": {},
   "outputs": [],
   "source": [
    "def accuracy(predictions, labels):\n",
    "    classes = torch.argmax(predictions, dim=1)\n",
    "    return torch.mean((classes == labels).float())"
   ]
  },
  {
   "cell_type": "code",
   "execution_count": 6,
   "metadata": {},
   "outputs": [],
   "source": [
    "# from tqdm import tqdm_notebook\n",
    "# LR = 0.0001\n",
    "# stop_count = 0\n",
    "# rnn = RNN(max(y_train)+1).cuda()\n",
    "# optimizer = torch.optim.Adam(rnn.parameters(), lr=LR)\n",
    "# loss_fun = nn.CrossEntropyLoss()\n",
    "# tloss_stack, vloss_stack, t_acc_stack, v_acc_stack = [], [], [], []\n",
    "# min_valid_loss = np.inf\n",
    "# for epoch in tqdm_notebook(range(1000)):\n",
    "# # for epoch in range(EPOCH):\n",
    "#     for step, (b_x, b_y) in enumerate(train_loader):\n",
    "#         # Forward pass\n",
    "#         rnn.train()\n",
    "#         train_loss = 0.0\n",
    "#         if torch.cuda.is_available():\n",
    "#             b_x, b_y= (torch.unsqueeze(b_x, 1)).data.type(torch.FloatTensor).cuda(), b_y.cuda()\n",
    "        \n",
    "#         optimizer.zero_grad()\n",
    "#         r_out = rnn(b_x)\n",
    "#         loss = loss_fun(r_out, b_y)\n",
    "#         loss.backward()\n",
    "#         optimizer.step()\n",
    "#         train_loss = loss.item()*b_x.size(0)\n",
    "#     tloss_stack.append(loss)\n",
    "\n",
    "    \n",
    "#     # Validation\n",
    "#     valid_loss = 0.0\n",
    "#     rnn.eval()\n",
    "#     for step, (b_x, b_y) in enumerate(valid_loader):\n",
    "#         if torch.cuda.is_available():\n",
    "#             b_x, b_y= (torch.unsqueeze(b_x, 1)).data.type(torch.FloatTensor).cuda(), b_y.cuda()\n",
    "#         r_out = rnn(b_x)\n",
    "#         loss = loss_fun(r_out, b_y)\n",
    "#         valid_loss = loss.item()*b_x.size(0)\n",
    "#     vloss_stack.append(loss) \n",
    "\n",
    "#     if min_valid_loss > valid_loss:\n",
    "#         # print(f'Validation Loss Decreased({min_valid_loss:.6f}--->{valid_loss:.6f}) \\t Saving The Model')\n",
    "#         min_valid_loss = valid_loss\n",
    "          \n",
    "#         # Saving State Dict\n",
    "#         torch.save({'state_dict': rnn.state_dict()}, f'./pth/LSTM_week_saved_model_{filter_ths}.pth.tar')"
   ]
  },
  {
   "cell_type": "code",
   "execution_count": 7,
   "metadata": {},
   "outputs": [],
   "source": [
    "# import matplotlib.pyplot as plt\n",
    "# plt.figure(figsize=(10,10))\n",
    "# plt.plot(tloss_stack, label='train loss')\n",
    "# plt.plot(vloss_stack, label='valid loss')\n",
    "# plt.xlabel('Epochs', fontsize=18)\n",
    "# plt.ylabel('CE loss',fontsize=18)\n",
    "# plt.title(f'LSTM week model Loss plot [nums > {filter_ths}]', fontsize=25)\n",
    "# plt.legend()\n",
    "# plt.savefig(f'./results/{filter_ths}_loss_LSTM_week_no-weight-init.jpg')"
   ]
  },
  {
   "cell_type": "code",
   "execution_count": 8,
   "metadata": {},
   "outputs": [
    {
     "data": {
      "text/plain": [
       "RNN(\n",
       "  (rnn): LSTM(56575, 128, batch_first=True)\n",
       "  (out): Linear(in_features=128, out_features=7, bias=True)\n",
       ")"
      ]
     },
     "execution_count": 8,
     "metadata": {},
     "output_type": "execute_result"
    }
   ],
   "source": [
    "from sklearn.metrics import confusion_matrix\n",
    "import seaborn as sns\n",
    "model = RNN(max(y_train)+1).cuda()\n",
    "checkpoint = torch.load(f'./pth/LSTM_week_saved_model_{filter_ths}.pth.tar')\n",
    "model.load_state_dict(checkpoint['state_dict'])\n",
    "model.eval()"
   ]
  },
  {
   "cell_type": "code",
   "execution_count": 9,
   "metadata": {},
   "outputs": [
    {
     "name": "stdout",
     "output_type": "stream",
     "text": [
      "1.0\n"
     ]
    }
   ],
   "source": [
    "y_pred = []\n",
    "y_true = [] \n",
    "for step, (b_x, b_y) in enumerate(train_loader):\n",
    "    if torch.cuda.is_available():\n",
    "        b_x, b_y= (torch.unsqueeze(b_x, 1)).data.type(torch.FloatTensor).cuda(), b_y.cuda()\n",
    "    r_out = model(b_x)\n",
    "    _, preds = torch.max(r_out, 1) \n",
    "    y_pred.extend(preds.view(-1).detach().cpu().numpy())    \n",
    "    y_true.extend(b_y.cpu().view(-1).detach().cpu().numpy())  \n",
    "from sklearn.metrics import accuracy_score\n",
    "print(accuracy_score(y_true, y_pred))"
   ]
  },
  {
   "cell_type": "code",
   "execution_count": 10,
   "metadata": {},
   "outputs": [
    {
     "name": "stdout",
     "output_type": "stream",
     "text": [
      "0.9893992932862191\n"
     ]
    }
   ],
   "source": [
    "y_pred = []\n",
    "y_true = [] \n",
    "for step, (b_x, b_y) in enumerate(valid_loader):\n",
    "    if torch.cuda.is_available():\n",
    "        b_x, b_y= (torch.unsqueeze(b_x, 1)).data.type(torch.FloatTensor).cuda(), b_y.cuda()\n",
    "    r_out = model(b_x)\n",
    "    _, preds = torch.max(r_out, 1) \n",
    "    y_pred.extend(preds.view(-1).detach().cpu().numpy())    \n",
    "    y_true.extend(b_y.cpu().view(-1).detach().cpu().numpy()) \n",
    "print(accuracy_score(y_true, y_pred))"
   ]
  },
  {
   "cell_type": "code",
   "execution_count": 11,
   "metadata": {},
   "outputs": [
    {
     "name": "stdout",
     "output_type": "stream",
     "text": [
      "[0.97142857 1.         1.         0.99666667 0.98245614 1.\n",
      " 0.94285714]\n"
     ]
    },
    {
     "data": {
      "image/png": "[encoded data removed]",
      "text/plain": [
       "<Figure size 720x720 with 2 Axes>"
      ]
     },
     "metadata": {
      "needs_background": "light"
     },
     "output_type": "display_data"
    }
   ],
   "source": [
    "import matplotlib.pyplot as plt\n",
    "cf_matrix = confusion_matrix(y_true, y_pred, normalize='pred') \n",
    "per_cls_acc = cf_matrix.diagonal()/cf_matrix.sum(axis=0)\n",
    "print(per_cls_acc)\n",
    "\n",
    "df_cm = pd.DataFrame(cf_matrix, test_class, test_class)\n",
    "plt.figure(figsize = (10,10))\n",
    "sns.heatmap(df_cm, annot=True, cmap='gist_heat_r')\n",
    "plt.xlabel(\"prediction\", fontsize =15)\n",
    "plt.ylabel(\"label (ground truth)\", fontsize =15)\n",
    "plt.title(f'LSTM week model Prediction [num > {filter_ths}]', fontsize=22)\n",
    "plt.savefig(f'./results/{filter_ths}_CM_LSTM_week.jpg')"
   ]
  },
  {
   "cell_type": "code",
   "execution_count": null,
   "metadata": {},
   "outputs": [],
   "source": []
  }
 ],
 "metadata": {
  "interpreter": {
   "hash": "47ed0dbdec9901086886300defac8fc027ffa2cf340ed530b82da576181f4925"
  },
  "kernelspec": {
   "display_name": "Python 3.6.13 64-bit ('lstm_pyt': conda)",
   "name": "python3"
  },
  "language_info": {
   "codemirror_mode": {
    "name": "ipython",
    "version": 3
   },
   "file_extension": ".py",
   "mimetype": "text/x-python",
   "name": "python",
   "nbconvert_exporter": "python",
   "pygments_lexer": "ipython3",
   "version": "3.6.13"
  },
  "orig_nbformat": 4
 },
 "nbformat": 4,
 "nbformat_minor": 2
}